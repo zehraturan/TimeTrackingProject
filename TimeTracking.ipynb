{
 "cells": [
  {
   "cell_type": "code",
   "execution_count": 1,
   "metadata": {},
   "outputs": [],
   "source": [
    "from Model.User import User\n",
    "from Model.Subject import Subject\n",
    "from Model.Project import Project\n",
    "\n",
    "user=User('a','b',{},[])\n",
    "#user.addProject('p1')\n",
    "#user.addProject('p2')\n",
    "#user.addSubject('p1','s1')\n",
    "\n",
    "\n",
    "#user.addSubject('p2','s2')\n",
    "#print(user.toJSON())"
   ]
  },
  {
   "cell_type": "code",
   "execution_count": 2,
   "metadata": {},
   "outputs": [
    {
     "name": "stdout",
     "output_type": "stream",
     "text": [
      "<Model.Project.Project object at 0x0000017D9946AD90>\n",
      "<Model.Project.Project object at 0x0000017D9946ADF0>\n",
      "{'s111': <Model.Subject.Subject object at 0x0000017D9946ABE0>}\n",
      "{'s222': <Model.Subject.Subject object at 0x0000017D99C17DF0>}\n"
     ]
    }
   ],
   "source": [
    "user.projects['p1']=Project('p1',{})\n",
    "user.projects['p2']=Project('p2',{})\n",
    "print(user.projects['p1'])\n",
    "print(user.projects['p2'])\n",
    "\n",
    "sub1=Subject(\"s111\")\n",
    "user.projects[\"p1\"].subjects['s111'] = sub1\n",
    "\n",
    "sub2=Subject(\"s222\")\n",
    "user.projects[\"p2\"].subjects['s222'] = sub2\n",
    "print(user.projects[\"p1\"].subjects)\n",
    "print(user.projects[\"p2\"].subjects)\n",
    "\n"
   ]
  },
  {
   "cell_type": "code",
   "execution_count": 3,
   "metadata": {},
   "outputs": [
    {
     "name": "stdout",
     "output_type": "stream",
     "text": [
      "{\n",
      "    \"email\": \"a\",\n",
      "    \"name\": \"b\",\n",
      "    \"projects\": {\n",
      "        \"p1\": {\n",
      "            \"name\": \"p1\",\n",
      "            \"subjects\": {\n",
      "                \"s111\": {\n",
      "                    \"name\": \"s111\",\n",
      "                    \"pomodoro_list\": []\n",
      "                }\n",
      "            }\n",
      "        },\n",
      "        \"p2\": {\n",
      "            \"name\": \"p2\",\n",
      "            \"subjects\": {\n",
      "                \"s222\": {\n",
      "                    \"name\": \"s222\",\n",
      "                    \"pomodoro_list\": []\n",
      "                }\n",
      "            }\n",
      "        }\n",
      "    },\n",
      "    \"recipients\": []\n",
      "}\n"
     ]
    }
   ],
   "source": [
    "print(user.toJSON())"
   ]
  }
 ],
 "metadata": {
  "kernelspec": {
   "display_name": "Python 3.9.13 64-bit (microsoft store)",
   "language": "python",
   "name": "python3"
  },
  "language_info": {
   "codemirror_mode": {
    "name": "ipython",
    "version": 3
   },
   "file_extension": ".py",
   "mimetype": "text/x-python",
   "name": "python",
   "nbconvert_exporter": "python",
   "pygments_lexer": "ipython3",
   "version": "3.9.13"
  },
  "orig_nbformat": 4,
  "vscode": {
   "interpreter": {
    "hash": "b99668b0bd0e04ae2365b8076afa579c0a8a5d069817a91122d1bb49107b24a1"
   }
  }
 },
 "nbformat": 4,
 "nbformat_minor": 2
}
